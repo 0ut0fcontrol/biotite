{
 "cells": [
  {
   "cell_type": "code",
   "execution_count": 1,
   "metadata": {},
   "outputs": [],
   "source": [
    "# test_example.py\n",
    "# biotite=0.40.0\n",
    "import biotite.structure.io.pdbx as pdbx\n",
    "from biotite.database import rcsb\n",
    "import biotite.structure as struc\n",
    "import biotite.structure.io as strucio\n",
    "\n",
    "# There are a total of 3 problematic examples in the wwPDB database.\n",
    "pdb_id = \"1n5m\"\n",
    "# pdb_id = \"6szp\"\n",
    "# pdb_id = \"1tsl\"\n",
    "\n",
    "try:\n",
    "    cif_file = pdbx.CIFFile.read(f\"/tmp/{pdb_id}.cif\")\n",
    "except:\n",
    "    rcsb.fetch(pdb_id, \"cif\", target_path=\"/tmp\")\n",
    "    cif_file = pdbx.CIFFile.read(f\"/tmp/{pdb_id}.cif\")\n",
    "\n",
    "entity = cif_file.block[\"entity\"]"
   ]
  },
  {
   "cell_type": "code",
   "execution_count": null,
   "metadata": {},
   "outputs": [],
   "source": []
  }
 ],
 "metadata": {
  "kernelspec": {
   "display_name": "biotite10",
   "language": "python",
   "name": "python3"
  },
  "language_info": {
   "codemirror_mode": {
    "name": "ipython",
    "version": 3
   },
   "file_extension": ".py",
   "mimetype": "text/x-python",
   "name": "python",
   "nbconvert_exporter": "python",
   "pygments_lexer": "ipython3",
   "version": "3.10.14"
  }
 },
 "nbformat": 4,
 "nbformat_minor": 2
}
